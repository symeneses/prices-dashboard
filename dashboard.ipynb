{
 "cells": [
  {
   "cell_type": "markdown",
   "metadata": {},
   "source": [
    "# Fuel Prices by Brands"
   ]
  },
  {
   "cell_type": "markdown",
   "metadata": {},
   "source": [
    "In this notebook, we can see the price behaviour for different brands in Germany using data from July 2018 to June 2019. "
   ]
  },
  {
   "cell_type": "code",
   "execution_count": 1,
   "metadata": {},
   "outputs": [],
   "source": [
    "import os\n",
    "import pandas as pd\n",
    "import numpy as np\n",
    "from datetime import datetime, date\n",
    "\n",
    "import chart_studio.plotly as py\n",
    "import plotly.graph_objects as go\n",
    "import plotly.io as pio\n",
    "from plotly.offline import iplot, init_notebook_mode\n",
    "from IPython.display import Image, IFrame, display, HTML\n",
    "import ipywidgets as widgets\n",
    "from ipywidgets import interact, interact_manual\n",
    "\n",
    "\n",
    "# Extra options\n",
    "pd.options.display.max_rows = 30\n",
    "pd.options.display.max_columns = 10"
   ]
  },
  {
   "cell_type": "code",
   "execution_count": 2,
   "metadata": {},
   "outputs": [],
   "source": [
    "data_brands_months = pd.read_parquet('data_brands_months.parquet')"
   ]
  },
  {
   "cell_type": "code",
   "execution_count": 3,
   "metadata": {},
   "outputs": [],
   "source": [
    "data_brands_months['date_str'] = data_brands_months.apply(lambda x: str(x.year) + \" - \" + str(x.month), axis=1)\n",
    "data_brands_months['date'] = data_brands_months.apply(lambda x: datetime(x.year, x.month, 1), axis=1)"
   ]
  },
  {
   "cell_type": "code",
   "execution_count": 4,
   "metadata": {},
   "outputs": [],
   "source": [
    "top_brands = ['SHELL', \n",
    "            'Esso',\n",
    "            'AVIA',\n",
    "            'OMV',\n",
    "            'Westfalen',\n",
    "            'ARAL',\n",
    "            'TOTAL',\n",
    "            'JET',\n",
    "            'STAR',\n",
    "            'Agip']\n",
    "data_top_brands_months = data_brands_months.loc[data_brands_months['m.brand_name'].isin(top_brands), :]"
   ]
  },
  {
   "cell_type": "markdown",
   "metadata": {},
   "source": [
    "## Prices for top brands"
   ]
  },
  {
   "cell_type": "markdown",
   "metadata": {},
   "source": [
    "Average of the prices per brand in a period of time.\n",
    "\n",
    "Please keep in mind that brands have different prices strategies, which means that some of their stations are much cheaper and other much more expensive according to their location and the services they offer. As the values below are averages i.e there are stations from one brand that could be more expensive than a station from one brand with a higher average. \n",
    "\n",
    "Select the time range to view the mean prices for each fuel type. "
   ]
  },
  {
   "cell_type": "code",
   "execution_count": 5,
   "metadata": {},
   "outputs": [],
   "source": [
    "start_date = date(2018, 7, 1)\n",
    "end_date = date(2019, 6, 30)\n",
    "\n",
    "dates = pd.date_range(start_date, end_date, freq='MS')\n",
    "\n",
    "options = [(date.strftime(' %b %Y '), date) for date in dates]\n",
    "index = (0, len(options)-1)\n",
    "\n",
    "selection_range_slider = widgets.SelectionRangeSlider(\n",
    "    options=options,\n",
    "    index=index,\n",
    "    description='Dates',\n",
    "    orientation='horizontal',\n",
    "    layout={'width': '500px'}\n",
    ")"
   ]
  },
  {
   "cell_type": "code",
   "execution_count": 6,
   "metadata": {},
   "outputs": [
    {
     "data": {
      "application/vnd.jupyter.widget-view+json": {
       "model_id": "7f543c3550db4b0c8441d9a56132d742",
       "version_major": 2,
       "version_minor": 0
      },
      "text/plain": [
       "interactive(children=(SelectionRangeSlider(description='Dates', index=(0, 11), layout=Layout(width='500px'), o…"
      ]
     },
     "metadata": {},
     "output_type": "display_data"
    }
   ],
   "source": [
    "@interact\n",
    "def mean_per_timeperiod_top_brands(date_range=selection_range_slider):\n",
    "    display(HTML(f'<h2>Showing average prices for top brands and fuel types<h3>'))\n",
    "    filter_dates = (data_top_brands_months['date'] <= date_range[1]) & (data_top_brands_months['date'] >= date_range[0])\n",
    "    mean_prices = data_top_brands_months.loc[filter_dates].groupby(['m.brand_name', 'fuel_type'])['mean'].mean().reset_index()\n",
    "    mean_prices = mean_prices.pivot(index='m.brand_name', values='mean', columns='fuel_type')\n",
    "    mean_prices['total_mean'] = mean_prices.mean(axis=1, numeric_only=True)\n",
    "    mean_prices = mean_prices.sort_values('total_mean')\n",
    "    display(mean_prices[['diesel', 'e5', 'e10']])"
   ]
  },
  {
   "cell_type": "markdown",
   "metadata": {},
   "source": [
    "### Plot: Timeline to compare 2 brands"
   ]
  },
  {
   "cell_type": "markdown",
   "metadata": {},
   "source": [
    "Here, you can choose two different brands and compare the history for a fuel type using a descriptive (minimum, mean, median and maximum)."
   ]
  },
  {
   "cell_type": "code",
   "execution_count": 7,
   "metadata": {},
   "outputs": [
    {
     "data": {
      "application/vnd.jupyter.widget-view+json": {
       "model_id": "2a2242614039495990ad50437e0affe5",
       "version_major": 2,
       "version_minor": 0
      },
      "text/plain": [
       "interactive(children=(Dropdown(description='brand_base', options=('ARAL', 'AVIA', 'Agip', 'Esso', 'JET', 'OMV'…"
      ]
     },
     "metadata": {},
     "output_type": "display_data"
    }
   ],
   "source": [
    "@interact\n",
    "def scatter_plot(brand_base=data_top_brands_months['m.brand_name'].unique(), brand=data_top_brands_months['m.brand_name'].unique(), fuel_type=data_top_brands_months['fuel_type'].unique(), descriptive=['median', 'mean', 'min', 'max']):\n",
    "    data_base = data_top_brands_months.loc[(data_top_brands_months['m.brand_name'] == brand_base) & (data_top_brands_months['fuel_type'] == fuel_type), ['date_str', 'min', 'median', 'mean', 'max']]\n",
    "    data = data_top_brands_months.loc[(data_top_brands_months['m.brand_name'] == brand) & (data_top_brands_months['fuel_type'] == fuel_type), ['date_str', 'min', 'median', 'mean', 'max']]\n",
    "    fig = go.FigureWidget()\n",
    "    fig.add_trace(go.Scatter(x=data_base['date_str'], y=data_base[descriptive], name=brand_base))\n",
    "    fig.add_trace(go.Scatter(x=data['date_str'], y=data[descriptive], name=brand))\n",
    "    fig.update_layout(title_text='Time Series', xaxis_rangeslider_visible=True)\n",
    "    fig_widget = go.FigureWidget(fig)\n",
    "    iplot(fig)"
   ]
  },
  {
   "cell_type": "markdown",
   "metadata": {},
   "source": [
    "## Table: Prices for top brands and fuel type"
   ]
  },
  {
   "cell_type": "markdown",
   "metadata": {},
   "source": [
    "Filtering a brand and fuel type, you can see the minimum value, median, mean (average) and maximum price for each month."
   ]
  },
  {
   "cell_type": "code",
   "execution_count": 8,
   "metadata": {},
   "outputs": [
    {
     "data": {
      "application/vnd.jupyter.widget-view+json": {
       "model_id": "63d66d38ba394d2ab392f8bae78b7270",
       "version_major": 2,
       "version_minor": 0
      },
      "text/plain": [
       "interactive(children=(Dropdown(description='brand', options=('ARAL', 'AVIA', 'Agip', 'Esso', 'JET', 'OMV', 'SH…"
      ]
     },
     "metadata": {},
     "output_type": "display_data"
    }
   ],
   "source": [
    "@interact\n",
    "def show_prices_per_top_brand(brand=data_top_brands_months['m.brand_name'].unique(), fuel_type=data_top_brands_months['fuel_type'].unique()):\n",
    "    display(HTML(f'<h2>Showing prices for brand {brand} and fuel type {fuel_type}<h3>'))\n",
    "    display(data_top_brands_months.loc[(data_top_brands_months['m.brand_name'] == brand) & (data_top_brands_months['fuel_type'] == fuel_type), ['year', 'month', 'median', 'mean']])"
   ]
  },
  {
   "cell_type": "markdown",
   "metadata": {},
   "source": [
    "## Appendix : Prices for all brands"
   ]
  },
  {
   "cell_type": "code",
   "execution_count": 9,
   "metadata": {},
   "outputs": [
    {
     "data": {
      "application/vnd.jupyter.widget-view+json": {
       "model_id": "45a0eaf337684ed1adf729888da8e99b",
       "version_major": 2,
       "version_minor": 0
      },
      "text/plain": [
       "interactive(children=(Dropdown(description='brand', options=('', ' AVIA Xpress ', ' Autohof Frechen (Mundorf T…"
      ]
     },
     "metadata": {},
     "output_type": "display_data"
    }
   ],
   "source": [
    "@interact\n",
    "def show_prices_per_brand(brand=data_brands_months['m.brand_name'].unique(), fuel_type=data_brands_months['fuel_type'].unique()):\n",
    "    display(HTML(f'<h2>Showing prices for brand {brand} and fuel type {fuel_type}<h3>'))\n",
    "    display(data_brands_months.loc[(data_brands_months['m.brand_name'] == brand) & (data_brands_months['fuel_type'] == fuel_type), ['year', 'month', 'median', 'mean']])"
   ]
  }
 ],
 "metadata": {
  "kernelspec": {
   "display_name": "ds_sandbox",
   "language": "python",
   "name": "myenv"
  },
  "language_info": {
   "codemirror_mode": {
    "name": "ipython",
    "version": 3
   },
   "file_extension": ".py",
   "mimetype": "text/x-python",
   "name": "python",
   "nbconvert_exporter": "python",
   "pygments_lexer": "ipython3",
   "version": "3.7.0"
  },
  "widgets": {
   "application/vnd.jupyter.widget-state+json": {
    "state": {},
    "version_major": 2,
    "version_minor": 0
   }
  }
 },
 "nbformat": 4,
 "nbformat_minor": 4
}

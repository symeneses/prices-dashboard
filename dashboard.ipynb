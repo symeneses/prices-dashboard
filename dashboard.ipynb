{
 "cells": [
  {
   "cell_type": "markdown",
   "metadata": {},
   "source": [
    "# Fuel Prices by Brands"
   ]
  },
  {
   "cell_type": "markdown",
   "metadata": {},
   "source": [
    "In this notebook, we can see the price behaviour for different brands in Germany using data from July 2018 to June 2019. "
   ]
  },
  {
   "cell_type": "code",
   "execution_count": 1,
   "metadata": {},
   "outputs": [],
   "source": [
    "import os\n",
    "import pandas as pd\n",
    "import numpy as np\n",
    "from datetime import datetime\n",
    "\n",
    "import chart_studio.plotly as py\n",
    "import plotly.graph_objects as go\n",
    "import plotly.io as pio\n",
    "from plotly.offline import iplot, init_notebook_mode\n",
    "from IPython.display import Image, IFrame, display, HTML\n",
    "import ipywidgets as widgets\n",
    "from ipywidgets import interact, interact_manual\n",
    "\n",
    "\n",
    "# Extra options\n",
    "pd.options.display.max_rows = 30\n",
    "pd.options.display.max_columns = 10"
   ]
  },
  {
   "cell_type": "code",
   "execution_count": 2,
   "metadata": {},
   "outputs": [],
   "source": [
    "data_brands_months = pd.read_parquet('data_brands_months.parquet')"
   ]
  },
  {
   "cell_type": "code",
   "execution_count": 3,
   "metadata": {},
   "outputs": [],
   "source": [
    "data_brands_months['date'] = data_brands_months.apply(lambda x: str(x.year) + \" - \" + str(x.month), axis=1)"
   ]
  },
  {
   "cell_type": "code",
   "execution_count": 4,
   "metadata": {},
   "outputs": [],
   "source": [
    "top_brands = ['SHELL', \n",
    "            'Esso',\n",
    "            'AVIA',\n",
    "            'OMV',\n",
    "            'Westfalen',\n",
    "            'ARAL',\n",
    "            'TOTAL',\n",
    "            'JET',\n",
    "            'STAR',\n",
    "            'Agip']\n",
    "data_top_brands_months = data_brands_months.loc[data_brands_months['m.brand_name'].isin(top_brands), :]"
   ]
  },
  {
   "cell_type": "markdown",
   "metadata": {},
   "source": [
    "## Prices for top brands"
   ]
  },
  {
   "cell_type": "markdown",
   "metadata": {},
   "source": [
    "### Plot: Timeline to compare 2 brands"
   ]
  },
  {
   "cell_type": "markdown",
   "metadata": {},
   "source": [
    "Here, you can choose two different brands and compare the history for a fuel type using a descriptive (minimum, mean, median and maximum)."
   ]
  },
  {
   "cell_type": "code",
   "execution_count": 5,
   "metadata": {},
   "outputs": [
    {
     "data": {
      "application/vnd.jupyter.widget-view+json": {
       "model_id": "cc658791ddf44cbaa1230a497bd386cf",
       "version_major": 2,
       "version_minor": 0
      },
      "text/plain": [
       "interactive(children=(Dropdown(description='brand_base', options=('ARAL', 'AVIA', 'Agip', 'Esso', 'JET', 'OMV'…"
      ]
     },
     "metadata": {},
     "output_type": "display_data"
    }
   ],
   "source": [
    "@interact\n",
    "def scatter_plot(brand_base=data_top_brands_months['m.brand_name'].unique(), brand=data_top_brands_months['m.brand_name'].unique(), fuel_type=data_top_brands_months['fuel_type'].unique(), descriptive=['median', 'mean', 'min', 'max']):\n",
    "    data_base = data_top_brands_months.loc[(data_top_brands_months['m.brand_name'] == brand_base) & (data_top_brands_months['fuel_type'] == fuel_type), ['date', 'min', 'median', 'mean', 'max']]\n",
    "    data = data_top_brands_months.loc[(data_top_brands_months['m.brand_name'] == brand) & (data_top_brands_months['fuel_type'] == fuel_type), ['date', 'min', 'median', 'mean', 'max']]\n",
    "    fig = go.FigureWidget()\n",
    "    fig.add_trace(go.Scatter(x=data_base['date'], y=data_base[descriptive], name=brand_base))\n",
    "    fig.add_trace(go.Scatter(x=data['date'], y=data[descriptive], name=brand))\n",
    "    fig.update_layout(title_text='Time Series', xaxis_rangeslider_visible=True)\n",
    "    fig_widget = go.FigureWidget(fig)\n",
    "    iplot(fig)"
   ]
  },
  {
   "cell_type": "markdown",
   "metadata": {},
   "source": [
    "## Table: Prices for top brands and fuel type"
   ]
  },
  {
   "cell_type": "markdown",
   "metadata": {},
   "source": [
    "Filtering a brand and fuel type, you can see the minimum value, median, mean (average) and maximum price for each month."
   ]
  },
  {
   "cell_type": "code",
   "execution_count": 6,
   "metadata": {},
   "outputs": [
    {
     "data": {
      "application/vnd.jupyter.widget-view+json": {
       "model_id": "e5c6a3b86080406991186e33332431bd",
       "version_major": 2,
       "version_minor": 0
      },
      "text/plain": [
       "interactive(children=(Dropdown(description='brand', options=('ARAL', 'AVIA', 'Agip', 'Esso', 'JET', 'OMV', 'SH…"
      ]
     },
     "metadata": {},
     "output_type": "display_data"
    }
   ],
   "source": [
    "@interact\n",
    "def show_prices_per_brand(brand=data_top_brands_months['m.brand_name'].unique(), fuel_type=data_top_brands_months['fuel_type'].unique()):\n",
    "    display(HTML(f'<h2>Showing prices for brand {brand} and fuel type {fuel_type}<h3>'))\n",
    "    display(data_top_brands_months.loc[(data_top_brands_months['m.brand_name'] == brand) & (data_top_brands_months['fuel_type'] == fuel_type), ['year', 'month', 'min', 'median', 'mean', 'max']])"
   ]
  },
  {
   "cell_type": "markdown",
   "metadata": {},
   "source": [
    "## Appendix : Prices for all brands"
   ]
  },
  {
   "cell_type": "code",
   "execution_count": 7,
   "metadata": {},
   "outputs": [
    {
     "data": {
      "application/vnd.jupyter.widget-view+json": {
       "model_id": "d305bde18fd9498f8a29e2f8c07a2139",
       "version_major": 2,
       "version_minor": 0
      },
      "text/plain": [
       "interactive(children=(Dropdown(description='brand', options=('', ' AVIA Xpress ', ' Autohof Frechen (Mundorf T…"
      ]
     },
     "metadata": {},
     "output_type": "display_data"
    }
   ],
   "source": [
    "@interact\n",
    "def show_prices_per_brand(brand=data_brands_months['m.brand_name'].unique(), fuel_type=data_brands_months['fuel_type'].unique()):\n",
    "    display(HTML(f'<h2>Showing prices for brand {brand} and fuel type {fuel_type}<h3>'))\n",
    "    display(data_brands_months.loc[(data_brands_months['m.brand_name'] == brand) & (data_brands_months['fuel_type'] == fuel_type), ['year', 'month', 'min', 'median', 'mean', 'max']])"
   ]
  }
 ],
 "metadata": {
  "kernelspec": {
   "display_name": "ds_sandbox",
   "language": "python",
   "name": "myenv"
  },
  "language_info": {
   "codemirror_mode": {
    "name": "ipython",
    "version": 3
   },
   "file_extension": ".py",
   "mimetype": "text/x-python",
   "name": "python",
   "nbconvert_exporter": "python",
   "pygments_lexer": "ipython3",
   "version": "3.7.0"
  },
  "widgets": {
   "application/vnd.jupyter.widget-state+json": {
    "state": {},
    "version_major": 2,
    "version_minor": 0
   }
  }
 },
 "nbformat": 4,
 "nbformat_minor": 4
}
